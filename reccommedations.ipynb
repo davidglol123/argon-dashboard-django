{
  "nbformat": 4,
  "nbformat_minor": 0,
  "metadata": {
    "colab": {
      "provenance": [],
      "toc_visible": true,
      "authorship_tag": "ABX9TyO+uWpZTQPNPSHjfRHKQKDC",
      "include_colab_link": true
    },
    "kernelspec": {
      "name": "python3",
      "display_name": "Python 3"
    },
    "language_info": {
      "name": "python"
    }
  },
  "cells": [
    {
      "cell_type": "markdown",
      "metadata": {
        "id": "view-in-github",
        "colab_type": "text"
      },
      "source": [
        "<a href=\"https://colab.research.google.com/github/davidglol123/argon-dashboard-django/blob/master/reccommedations.ipynb\" target=\"_parent\"><img src=\"https://colab.research.google.com/assets/colab-badge.svg\" alt=\"Open In Colab\"/></a>"
      ]
    },
    {
      "cell_type": "code",
      "execution_count": 1,
      "metadata": {
        "colab": {
          "base_uri": "https://localhost:8080/"
        },
        "id": "rs4DOwdXRh5c",
        "outputId": "1f8dcb84-0735-4f15-9bea-113b3a520a64"
      },
      "outputs": [
        {
          "output_type": "stream",
          "name": "stdout",
          "text": [
            "Mounted at /content/drive\n",
            "YF.download() has changed argument auto_adjust default to True\n",
            "[*********************100%***********************]  1 of 1 completed\n",
            "\n",
            "ATR(14) = 0.01832\n",
            "ADR(5) = 0.00740\n",
            "ATR/ADR Ratio   = 2.48\n",
            "\n",
            "Recommended daily-tweak settings:\n",
            "  • Risk % per entry         : 0.30\n",
            "  • BB deviation             : 2.20\n",
            "  • ATR→next-leg multiplier  : 1.80\n",
            "  • TP1 multiplier           : 1.40\n",
            "  • TP2 multiplier           : 2.60\n",
            "  • Retracement multiplier   : 0.25\n",
            "  • Trailing-step multiplier : 0.40\n",
            "  • Trailing buffer (pips)   : 7\n",
            "\n",
            "Observed ATR14 over last month:\n",
            "  • ATR14 min (pips): 126.9\n",
            "  • ATR14 max (pips): 187.7\n",
            "\n",
            "Recommended MaxATRPips cap: 120 pips\n"
          ]
        }
      ],
      "source": [
        "# Save your script as 'eurusd_volatility.py' then:\n",
        "\n",
        "# 1. Upload to Google Drive\n",
        "# 2. Create a Colab notebook with this cell:\n",
        "from google.colab import drive\n",
        "drive.mount('/content/drive')\n",
        "\n",
        "!python3 '/content/drive/MyDrive/recommendations.py'\n",
        "\n",
        "# 3. Schedule with cron-job.org (free tier) to hit:\n",
        "#    https://colab.research.google.com/github/yourusername/yourrepo/blob/main/notebook.ipynb"
      ]
    }
  ]
}